{
  "nbformat": 4,
  "nbformat_minor": 0,
  "metadata": {
    "colab": {
      "provenance": []
    },
    "kernelspec": {
      "name": "python3",
      "display_name": "Python 3"
    },
    "language_info": {
      "name": "python"
    }
  },
  "cells": [
    {
      "cell_type": "markdown",
      "source": [
        "With Lib"
      ],
      "metadata": {
        "id": "PfWIJv5BG935"
      }
    },
    {
      "cell_type": "code",
      "execution_count": null,
      "metadata": {
        "id": "N_eUj2I1Ghe6"
      },
      "outputs": [],
      "source": [
        "from sklearn.metrics import confusion_matrix, accuracy_score, precision_score, recall_score, f1_score\n",
        "\n",
        "# Data from Table 2\n",
        "y_actual = [0, 0, 0, 0, 0, 1, 1, 1, 1, 1, 2, 2, 2, 2, 2]\n",
        "y_pred = [0, 0, 1, 2, 2, 1, 0, 2, 0, 2, 0, 0, 1, 2, 2]\n",
        "\n",
        "# Confusion Matrix\n",
        "cm = confusion_matrix(y_actual, y_pred)\n",
        "print(\"Confusion Matrix:\")\n",
        "print(cm)\n",
        "\n",
        "# Accuracy\n",
        "accuracy = accuracy_score(y_actual, y_pred)\n",
        "print(\"\\nAccuracy:\", accuracy)\n",
        "\n",
        "# Precision, Recall, F1 Score\n",
        "precision = precision_score(y_actual, y_pred, average=None)\n",
        "recall = recall_score(y_actual, y_pred, average=None)\n",
        "f1 = f1_score(y_actual, y_pred, average=None)\n",
        "\n",
        "print(\"Precision:\", precision)\n",
        "print(\"Recall:\", recall)\n",
        "print(\"F1 Score:\", f1)\n",
        "\n",
        "# Overall metrics (micro, macro, weighted averages)\n",
        "precision_overall = precision_score(y_actual, y_pred, average='macro')\n",
        "recall_overall = recall_score(y_actual, y_pred, average='macro')\n",
        "f1_overall = f1_score(y_actual, y_pred, average='macro')\n",
        "\n",
        "print(\"\\nOverall Precision (Macro):\", precision_overall)\n",
        "print(\"Overall Recall (Macro):\", recall_overall)\n",
        "print(\"Overall F1 Score (Macro):\", f1_overall)"
      ]
    },
    {
      "cell_type": "markdown",
      "source": [
        "Without Lib"
      ],
      "metadata": {
        "id": "QVlshcgiHAdx"
      }
    },
    {
      "cell_type": "code",
      "source": [
        "\n",
        "y_actual = [0, 0, 0, 0, 0, 1, 1, 1, 1, 1, 2, 2, 2, 2, 2]\n",
        "y_pred = [0, 0, 1, 2, 2, 1, 0, 2, 0, 2, 0, 0, 1, 2, 2]\n",
        "\n",
        "# Initialize confusion matrix\n",
        "classes = sorted(set(y_actual))  # Unique classes: [0, 1, 2]\n",
        "confusion_matrix = {c: {c_: 0 for c_ in classes} for c in classes}\n",
        "\n",
        "# Fill confusion matrix\n",
        "for ya, yp in zip(y_actual, y_pred):\n",
        "    confusion_matrix[ya][yp] += 1\n",
        "\n",
        "# Metrics calculation\n",
        "total_correct = sum(confusion_matrix[c][c] for c in classes)\n",
        "total_samples = len(y_actual)\n",
        "\n",
        "# Accuracy\n",
        "accuracy = total_correct / total_samples\n",
        "\n",
        "# Precision, Recall, F1 Score for each class\n",
        "precision = {}\n",
        "recall = {}\n",
        "f1_score = {}\n",
        "\n",
        "for c in classes:\n",
        "    tp = confusion_matrix[c][c]\n",
        "    fp = sum(confusion_matrix[c_][c] for c_ in classes if c_ != c)\n",
        "    fn = sum(confusion_matrix[c][c_] for c_ in classes if c_ != c)\n",
        "    precision[c] = tp / (tp + fp) if tp + fp > 0 else 0\n",
        "    recall[c] = tp / (tp + fn) if tp + fn > 0 else 0\n",
        "    f1_score[c] = (2 * precision[c] * recall[c] / (precision[c] + recall[c])) if precision[c] + recall[c] > 0 else 0\n",
        "\n",
        "# Print results\n",
        "print(\"Confusion Matrix:\")\n",
        "for c in classes:\n",
        "    print(c, [confusion_matrix[c][c_] for c_ in classes])\n",
        "\n",
        "print(\"\\nAccuracy:\", accuracy)\n",
        "print(\"Precision:\", precision)\n",
        "print(\"Recall:\", recall)\n",
        "print(\"F1 Score:\", f1_score)"
      ],
      "metadata": {
        "id": "pKKhJsxiG5D_"
      },
      "execution_count": null,
      "outputs": []
    }
  ]
}