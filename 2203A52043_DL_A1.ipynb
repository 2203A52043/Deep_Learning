{
  "nbformat": 4,
  "nbformat_minor": 0,
  "metadata": {
    "colab": {
      "provenance": []
    },
    "kernelspec": {
      "name": "python3",
      "display_name": "Python 3"
    },
    "language_info": {
      "name": "python"
    }
  },
  "cells": [
    {
      "cell_type": "markdown",
      "source": [
        "With Lib"
      ],
      "metadata": {
        "id": "dgh82oVEEp22"
      }
    },
    {
      "cell_type": "code",
      "execution_count": 4,
      "metadata": {
        "colab": {
          "base_uri": "https://localhost:8080/"
        },
        "id": "Hyr0Gs68AZeG",
        "outputId": "b7e830a1-42f2-430b-fac6-7829448183b2"
      },
      "outputs": [
        {
          "output_type": "stream",
          "name": "stdout",
          "text": [
            "Mean Absolute Error: 0.4600000000000016\n",
            "Mean Squared Error: 0.24600000000000147\n",
            "Root Mean Squared Error: 0.49598387070549127\n"
          ]
        }
      ],
      "source": [
        "import numpy as np\n",
        "\n",
        "y_actual = np.array([20, 30, 40, 50, 60])\n",
        "y_pred = np.array([20.5, 30.3, 40.2, 50.6, 60.7])\n",
        "\n",
        "mae=np.mean(np.abs(y_actual - y_pred))\n",
        "mse=np.mean((y_actual - y_pred)**2)\n",
        "rmse=np.sqrt(mse)\n",
        "print(\"Mean Absolute Error:\", mae)\n",
        "print(\"Mean Squared Error:\", mse)\n",
        "print(\"Root Mean Squared Error:\", rmse)\n"
      ]
    },
    {
      "cell_type": "markdown",
      "source": [
        "Without Lib"
      ],
      "metadata": {
        "id": "argKpj64EtdX"
      }
    },
    {
      "cell_type": "code",
      "source": [
        "y_actual = [20, 30, 40, 50, 60]\n",
        "y_pred = [20.5, 30.3, 40.2, 50.6, 60.7]\n",
        "\n",
        "n = len(y_actual)\n",
        "mae = sum(abs(ya - yp) for ya, yp in zip(y_actual, y_pred)) / n\n",
        "mse = sum((ya - yp) ** 2 for ya, yp in zip(y_actual, y_pred)) / n\n",
        "rmse = mse ** 0.5\n",
        "\n",
        "print(\"Mean Absolute Error (MAE):\", mae)\n",
        "print(\"Mean Squared Error (MSE):\", mse)\n",
        "print(\"Root Mean Squared Error (RMSE):\", rmse)"
      ],
      "metadata": {
        "colab": {
          "base_uri": "https://localhost:8080/"
        },
        "id": "XILI2EeREyYU",
        "outputId": "b09a1862-f065-4593-f395-308f5b60e3f3"
      },
      "execution_count": 3,
      "outputs": [
        {
          "output_type": "stream",
          "name": "stdout",
          "text": [
            "Mean Absolute Error (MAE): 0.4600000000000016\n",
            "Mean Squared Error (MSE): 0.24600000000000147\n",
            "Root Mean Squared Error (RMSE): 0.49598387070549127\n"
          ]
        }
      ]
    }
  ]
}